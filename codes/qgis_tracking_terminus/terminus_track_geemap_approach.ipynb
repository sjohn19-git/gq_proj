{
 "cells": [
  {
   "cell_type": "code",
   "execution_count": 209,
   "id": "f7c0eebe-60b1-47b8-8802-2fa59d3f6dcd",
   "metadata": {},
   "outputs": [
    {
     "data": {
      "text/html": [
       "\n",
       "            <style>\n",
       "                .geemap-dark {\n",
       "                    --jp-widgets-color: white;\n",
       "                    --jp-widgets-label-color: white;\n",
       "                    --jp-ui-font-color1: white;\n",
       "                    --jp-layout-color2: #454545;\n",
       "                    background-color: #383838;\n",
       "                }\n",
       "\n",
       "                .geemap-dark .jupyter-button {\n",
       "                    --jp-layout-color3: #383838;\n",
       "                }\n",
       "\n",
       "                .geemap-colab {\n",
       "                    background-color: var(--colab-primary-surface-color, white);\n",
       "                }\n",
       "\n",
       "                .geemap-colab .jupyter-button {\n",
       "                    --jp-layout-color3: var(--colab-primary-surface-color, white);\n",
       "                }\n",
       "            </style>\n",
       "            "
      ],
      "text/plain": [
       "<IPython.core.display.HTML object>"
      ]
     },
     "metadata": {},
     "output_type": "display_data"
    }
   ],
   "source": [
    "from ipyleaflet import Map, DrawControl\n",
    "import ee\n",
    "import geemap\n",
    "import datetime"
   ]
  },
  {
   "cell_type": "code",
   "execution_count": 305,
   "id": "8f3c7744-1972-4815-92ac-238f26883aae",
   "metadata": {},
   "outputs": [
    {
     "data": {
      "text/html": [
       "\n",
       "            <style>\n",
       "                .geemap-dark {\n",
       "                    --jp-widgets-color: white;\n",
       "                    --jp-widgets-label-color: white;\n",
       "                    --jp-ui-font-color1: white;\n",
       "                    --jp-layout-color2: #454545;\n",
       "                    background-color: #383838;\n",
       "                }\n",
       "\n",
       "                .geemap-dark .jupyter-button {\n",
       "                    --jp-layout-color3: #383838;\n",
       "                }\n",
       "\n",
       "                .geemap-colab {\n",
       "                    background-color: var(--colab-primary-surface-color, white);\n",
       "                }\n",
       "\n",
       "                .geemap-colab .jupyter-button {\n",
       "                    --jp-layout-color3: var(--colab-primary-surface-color, white);\n",
       "                }\n",
       "            </style>\n",
       "            "
      ],
      "text/plain": [
       "<IPython.core.display.HTML object>"
      ]
     },
     "metadata": {},
     "output_type": "display_data"
    }
   ],
   "source": [
    "\n",
    "# Initialize Earth Engine\n",
    "ee.Initialize()\n",
    "\n",
    "# Define Columbia Glacier AOI\n",
    "columbia_glacier_center = ee.Geometry.Point([-147.1, 61.1])\n",
    "aoi = columbia_glacier_center.buffer(15000)  # 5 km buffer\n",
    "\n",
    "target_date = datetime.date(2009, 5, 17)  # Example target date\n",
    "date_range = 15  # Search ±10 days around target date\n",
    "start_date = (target_date - datetime.timedelta(days=date_range)).strftime('%Y-%m-%d')\n",
    "end_date = (target_date + datetime.timedelta(days=date_range)).strftime('%Y-%m-%d')\n",
    "\n",
    "\n",
    "datasets = {\n",
    "    \"ASTER\": (\"ASTER/AST_L1T_003\", ['B3N', 'B02', 'B01'], {'min': 0, 'max': 0.3, 'bands': ['B3N', 'B02', 'B01']}),\n",
    "    \"Landsat 5\": ('LANDSAT/LT05/C02/T1_TOA', ['B3', 'B2', 'B1'], {'min': 0, 'max': 0.2, 'bands': ['B3', 'B2', 'B1']}),\n",
    "    \"Landsat 7\": ('LANDSAT/LE07/C02/T1_TOA', ['B3', 'B2', 'B1'], {'min': 0, 'max': 0.2, 'bands': ['B3', 'B2', 'B1']}),\n",
    "    \"Landsat 8\": (\"LANDSAT/LC08/C02/T1_TOA\", ['B4', 'B3', 'B2'], {'min': 0, 'max': 0.3, 'bands': ['B4', 'B3', 'B2']}),\n",
    "    \"Landsat 9\": (\"LANDSAT/LC09/C02/T1\", ['B4', 'B3', 'B2'], {'min': 0, 'max': 0.3, 'bands': ['B4', 'B3', 'B2']}),\n",
    "    \"Sentinel-1 SAR\": (\"COPERNICUS/S1_GRD\", ['VV'], {'min': -30, 'max': -5, 'bands': ['VV']}),\n",
    "    \"Sentinel-2\": (\"COPERNICUS/S2\", ['B4', 'B3', 'B2'], {'min': 0, 'max': 6000, 'bands': ['B4', 'B3', 'B2']})\n",
    "}\n"
   ]
  },
  {
   "cell_type": "code",
   "execution_count": 306,
   "id": "6f23d4ff-112d-44c5-ab18-dd55dd1ecfde",
   "metadata": {},
   "outputs": [
    {
     "data": {
      "text/html": [
       "\n",
       "            <style>\n",
       "                .geemap-dark {\n",
       "                    --jp-widgets-color: white;\n",
       "                    --jp-widgets-label-color: white;\n",
       "                    --jp-ui-font-color1: white;\n",
       "                    --jp-layout-color2: #454545;\n",
       "                    background-color: #383838;\n",
       "                }\n",
       "\n",
       "                .geemap-dark .jupyter-button {\n",
       "                    --jp-layout-color3: #383838;\n",
       "                }\n",
       "\n",
       "                .geemap-colab {\n",
       "                    background-color: var(--colab-primary-surface-color, white);\n",
       "                }\n",
       "\n",
       "                .geemap-colab .jupyter-button {\n",
       "                    --jp-layout-color3: var(--colab-primary-surface-color, white);\n",
       "                }\n",
       "            </style>\n",
       "            "
      ],
      "text/plain": [
       "<IPython.core.display.HTML object>"
      ]
     },
     "metadata": {},
     "output_type": "display_data"
    },
    {
     "name": "stdout",
     "output_type": "stream",
     "text": [
      "Start Date: 2009-05-02\n",
      "End Date: 2009-06-01\n"
     ]
    }
   ],
   "source": [
    "print(\"Start Date:\", start_date)\n",
    "print(\"End Date:\", end_date)\n"
   ]
  },
  {
   "cell_type": "code",
   "execution_count": 307,
   "id": "56988346-f96d-4c2f-9bbf-cbde632fddda",
   "metadata": {},
   "outputs": [
    {
     "data": {
      "text/html": [
       "\n",
       "            <style>\n",
       "                .geemap-dark {\n",
       "                    --jp-widgets-color: white;\n",
       "                    --jp-widgets-label-color: white;\n",
       "                    --jp-ui-font-color1: white;\n",
       "                    --jp-layout-color2: #454545;\n",
       "                    background-color: #383838;\n",
       "                }\n",
       "\n",
       "                .geemap-dark .jupyter-button {\n",
       "                    --jp-layout-color3: #383838;\n",
       "                }\n",
       "\n",
       "                .geemap-colab {\n",
       "                    background-color: var(--colab-primary-surface-color, white);\n",
       "                }\n",
       "\n",
       "                .geemap-colab .jupyter-button {\n",
       "                    --jp-layout-color3: var(--colab-primary-surface-color, white);\n",
       "                }\n",
       "            </style>\n",
       "            "
      ],
      "text/plain": [
       "<IPython.core.display.HTML object>"
      ]
     },
     "metadata": {},
     "output_type": "display_data"
    },
    {
     "name": "stdout",
     "output_type": "stream",
     "text": [
      "2  images found\n"
     ]
    }
   ],
   "source": [
    "\n",
    "# Find closest images\n",
    "def get_closest_images(dataset, bands):\n",
    "    collection = ee.ImageCollection(dataset).filterBounds(aoi).filterDate(start_date, end_date)\n",
    "    sorted_images = collection.sort('system:time_start').toList(collection.size())\n",
    "    return sorted_images, bands\n",
    "\n",
    "image_list = []\n",
    "for name, (dataset, bands, vis_params) in datasets.items():\n",
    "    sorted_images, bands = get_closest_images(dataset, bands)\n",
    "    try:\n",
    "        count = sorted_images.size().getInfo()\n",
    "    except:\n",
    "        count=0\n",
    "    if count > 0:\n",
    "        image_list.append((name, sorted_images, bands, vis_params))\n",
    "print(len(image_list),\" images found\")"
   ]
  },
  {
   "cell_type": "code",
   "execution_count": 308,
   "id": "9818f618-0530-4d44-b819-d3437a14e8bc",
   "metadata": {},
   "outputs": [
    {
     "data": {
      "text/html": [
       "\n",
       "            <style>\n",
       "                .geemap-dark {\n",
       "                    --jp-widgets-color: white;\n",
       "                    --jp-widgets-label-color: white;\n",
       "                    --jp-ui-font-color1: white;\n",
       "                    --jp-layout-color2: #454545;\n",
       "                    background-color: #383838;\n",
       "                }\n",
       "\n",
       "                .geemap-dark .jupyter-button {\n",
       "                    --jp-layout-color3: #383838;\n",
       "                }\n",
       "\n",
       "                .geemap-colab {\n",
       "                    background-color: var(--colab-primary-surface-color, white);\n",
       "                }\n",
       "\n",
       "                .geemap-colab .jupyter-button {\n",
       "                    --jp-layout-color3: var(--colab-primary-surface-color, white);\n",
       "                }\n",
       "            </style>\n",
       "            "
      ],
      "text/plain": [
       "<IPython.core.display.HTML object>"
      ]
     },
     "metadata": {},
     "output_type": "display_data"
    },
    {
     "name": "stdout",
     "output_type": "stream",
     "text": [
      "('Landsat 5', <ee.ee_list.List object at 0x16ae0f500>, ['B3', 'B2', 'B1'], {'min': 0, 'max': 0.2, 'bands': ['B3', 'B2', 'B1']})\n",
      "2009-04-30\n",
      "('Landsat 7', <ee.ee_list.List object at 0x16a0137d0>, ['B3', 'B2', 'B1'], {'min': 0, 'max': 0.2, 'bands': ['B3', 'B2', 'B1']})\n",
      "2009-04-30\n"
     ]
    }
   ],
   "source": [
    "for i in range(len(image_list)):\n",
    "    print(image_list[i])\n",
    "    name, sorted_images, bands, vis_params = image_list[i]\n",
    "    date = ee.Date(image.get('system:time_start')).format('YYYY-MM-dd').getInfo()\n",
    "    print(date)"
   ]
  },
  {
   "cell_type": "code",
   "execution_count": 294,
   "id": "e79b2cd4-2765-45a5-9faa-71c25b8f36d2",
   "metadata": {},
   "outputs": [
    {
     "data": {
      "text/html": [
       "\n",
       "            <style>\n",
       "                .geemap-dark {\n",
       "                    --jp-widgets-color: white;\n",
       "                    --jp-widgets-label-color: white;\n",
       "                    --jp-ui-font-color1: white;\n",
       "                    --jp-layout-color2: #454545;\n",
       "                    background-color: #383838;\n",
       "                }\n",
       "\n",
       "                .geemap-dark .jupyter-button {\n",
       "                    --jp-layout-color3: #383838;\n",
       "                }\n",
       "\n",
       "                .geemap-colab {\n",
       "                    background-color: var(--colab-primary-surface-color, white);\n",
       "                }\n",
       "\n",
       "                .geemap-colab .jupyter-button {\n",
       "                    --jp-layout-color3: var(--colab-primary-surface-color, white);\n",
       "                }\n",
       "            </style>\n",
       "            "
      ],
      "text/plain": [
       "<IPython.core.display.HTML object>"
      ]
     },
     "metadata": {},
     "output_type": "display_data"
    }
   ],
   "source": [
    "def update_map(index):\n",
    "    name, sorted_images, bands, vis_params = image_list[index]\n",
    "    image = ee.Image(sorted_images.get(0))\n",
    "    date = ee.Date(image.get('system:time_start')).format('YYYY-MM-dd').getInfo()\n",
    "    m.addLayer(image.select(bands), vis_params, f\"{name} - {date}\")\n",
    "    print(f\"Added {name} image from {date}.\")\n",
    "    return image,date\n",
    "\n"
   ]
  },
  {
   "cell_type": "code",
   "execution_count": 295,
   "id": "b17b3001-1df8-434d-820c-9efc11105fb8",
   "metadata": {},
   "outputs": [
    {
     "data": {
      "text/html": [
       "\n",
       "            <style>\n",
       "                .geemap-dark {\n",
       "                    --jp-widgets-color: white;\n",
       "                    --jp-widgets-label-color: white;\n",
       "                    --jp-ui-font-color1: white;\n",
       "                    --jp-layout-color2: #454545;\n",
       "                    background-color: #383838;\n",
       "                }\n",
       "\n",
       "                .geemap-dark .jupyter-button {\n",
       "                    --jp-layout-color3: #383838;\n",
       "                }\n",
       "\n",
       "                .geemap-colab {\n",
       "                    background-color: var(--colab-primary-surface-color, white);\n",
       "                }\n",
       "\n",
       "                .geemap-colab .jupyter-button {\n",
       "                    --jp-layout-color3: var(--colab-primary-surface-color, white);\n",
       "                }\n",
       "            </style>\n",
       "            "
      ],
      "text/plain": [
       "<IPython.core.display.HTML object>"
      ]
     },
     "metadata": {},
     "output_type": "display_data"
    },
    {
     "name": "stdout",
     "output_type": "stream",
     "text": [
      "Added Landsat 5 image from 2009-05-01.\n"
     ]
    },
    {
     "data": {
      "application/vnd.jupyter.widget-view+json": {
       "model_id": "500af6f2ce7d4b0a85c6c0effb94d7a3",
       "version_major": 2,
       "version_minor": 0
      },
      "text/plain": [
       "Map(center=[61.1, -147.1], controls=(WidgetControl(options=['position', 'transparent_bg'], widget=SearchDataGU…"
      ]
     },
     "metadata": {},
     "output_type": "display_data"
    },
    {
     "name": "stdin",
     "output_type": "stream",
     "text": [
      "Do you want to save this? (yes/no):  no\n"
     ]
    },
    {
     "name": "stdout",
     "output_type": "stream",
     "text": [
      "Added Landsat 7 image from 2009-04-30.\n"
     ]
    }
   ],
   "source": [
    "# Create interactive map\n",
    "m = geemap.Map(center=[61.1, -147.1], zoom=10)\n",
    "# Iteratively plot images\n",
    "def plot_images():\n",
    "    index = 0\n",
    "    image,date=update_map(index)\n",
    "    m.layout.width = '800px'\n",
    "    m.layout.height = '600px'\n",
    "    display(m)\n",
    "\n",
    "    while index < len(image_list) - 1:\n",
    "        response = input(\"Do you want to save this? (yes/no): \").strip().lower()\n",
    "        if response != 'no':\n",
    "            break\n",
    "        index += 1\n",
    "        image,date=update_map(index)\n",
    "    return image,date\n",
    "\n",
    "# Start the image plotting process\n",
    "image,date=plot_images()"
   ]
  },
  {
   "cell_type": "code",
   "execution_count": 282,
   "id": "3e990c88-58cb-4e0e-b148-e59599e167d8",
   "metadata": {},
   "outputs": [
    {
     "data": {
      "text/html": [
       "\n",
       "            <style>\n",
       "                .geemap-dark {\n",
       "                    --jp-widgets-color: white;\n",
       "                    --jp-widgets-label-color: white;\n",
       "                    --jp-ui-font-color1: white;\n",
       "                    --jp-layout-color2: #454545;\n",
       "                    background-color: #383838;\n",
       "                }\n",
       "\n",
       "                .geemap-dark .jupyter-button {\n",
       "                    --jp-layout-color3: #383838;\n",
       "                }\n",
       "\n",
       "                .geemap-colab {\n",
       "                    background-color: var(--colab-primary-surface-color, white);\n",
       "                }\n",
       "\n",
       "                .geemap-colab .jupyter-button {\n",
       "                    --jp-layout-color3: var(--colab-primary-surface-color, white);\n",
       "                }\n",
       "            </style>\n",
       "            "
      ],
      "text/plain": [
       "<IPython.core.display.HTML object>"
      ]
     },
     "metadata": {},
     "output_type": "display_data"
    },
    {
     "name": "stdout",
     "output_type": "stream",
     "text": [
      "Generating URL ...\n",
      "Downloading data from https://earthengine.googleapis.com/v1/projects/columbia-terminus-tracking/thumbnails/4a81d62921bed17a572f0a529938982b-699f2b159ddb323e9266016e183e2f34:getPixels\n",
      "Please wait ...\n",
      "Data downloaded to /Users/sebinjohn/Downloads/tmp/tmp.tif\n",
      "2005-05-05\n"
     ]
    }
   ],
   "source": [
    "geemap.ee_export_image(image, filename=f\"/Users/sebinjohn/Downloads/tmp/tmp.tif\", scale=40, region=aoi)\n",
    "print(date)\n"
   ]
  },
  {
   "cell_type": "code",
   "execution_count": 296,
   "id": "65ecd472-24b4-4138-9ec1-d4fba655d2d8",
   "metadata": {},
   "outputs": [
    {
     "data": {
      "text/html": [
       "\n",
       "            <style>\n",
       "                .geemap-dark {\n",
       "                    --jp-widgets-color: white;\n",
       "                    --jp-widgets-label-color: white;\n",
       "                    --jp-ui-font-color1: white;\n",
       "                    --jp-layout-color2: #454545;\n",
       "                    background-color: #383838;\n",
       "                }\n",
       "\n",
       "                .geemap-dark .jupyter-button {\n",
       "                    --jp-layout-color3: #383838;\n",
       "                }\n",
       "\n",
       "                .geemap-colab {\n",
       "                    background-color: var(--colab-primary-surface-color, white);\n",
       "                }\n",
       "\n",
       "                .geemap-colab .jupyter-button {\n",
       "                    --jp-layout-color3: var(--colab-primary-surface-color, white);\n",
       "                }\n",
       "            </style>\n",
       "            "
      ],
      "text/plain": [
       "<IPython.core.display.HTML object>"
      ]
     },
     "metadata": {},
     "output_type": "display_data"
    },
    {
     "data": {
      "application/vnd.jupyter.widget-view+json": {
       "model_id": "500af6f2ce7d4b0a85c6c0effb94d7a3",
       "version_major": 2,
       "version_minor": 0
      },
      "text/plain": [
       "Map(bottom=74577.0, center=[37.7600017838033, -122.47666441367949], controls=(WidgetControl(options=['position…"
      ]
     },
     "execution_count": 296,
     "metadata": {},
     "output_type": "execute_result"
    }
   ],
   "source": [
    "# Define a list of coordinates for points\n",
    "coordinates = [\n",
    "    [-122.45, 37.75],  # Point 1\n",
    "    [-122.48, 37.76],  # Point 2\n",
    "    [-122.50, 37.77],  # Point 3\n",
    "    # Add more points as needed\n",
    "]\n",
    "\n",
    "# Create a FeatureCollection of points\n",
    "points = ee.FeatureCollection([\n",
    "    ee.Feature(ee.Geometry.Point(coord), {'id': idx}) for idx, coord in enumerate(coordinates)\n",
    "])\n",
    "\n",
    "# Add the points to the map\n",
    "m.addLayer(points, {'color': 'red'}, 'Points')\n",
    "\n",
    "# Center the map on the points\n",
    "m.centerObject(points, 10)\n",
    "\n",
    "# Display the map\n",
    "m\n"
   ]
  },
  {
   "cell_type": "code",
   "execution_count": null,
   "id": "875e13f3-2966-48b9-bc27-a1d73f385ded",
   "metadata": {},
   "outputs": [],
   "source": []
  }
 ],
 "metadata": {
  "kernelspec": {
   "display_name": "Python 3 (ipykernel)",
   "language": "python",
   "name": "python3"
  },
  "language_info": {
   "codemirror_mode": {
    "name": "ipython",
    "version": 3
   },
   "file_extension": ".py",
   "mimetype": "text/x-python",
   "name": "python",
   "nbconvert_exporter": "python",
   "pygments_lexer": "ipython3",
   "version": "3.12.5"
  }
 },
 "nbformat": 4,
 "nbformat_minor": 5
}
